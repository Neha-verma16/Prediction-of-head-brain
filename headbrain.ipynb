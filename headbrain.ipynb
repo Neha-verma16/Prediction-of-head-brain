{
 "cells": [
  {
   "cell_type": "code",
   "execution_count": 1,
   "id": "4785a932-2f8b-49ab-b2ee-6440b1d9c7a0",
   "metadata": {},
   "outputs": [],
   "source": [
    "import numpy as np\n",
    "import pandas as pd\n",
    "import matplotlib.pyplot as plt\n",
    "%matplotlib inline\n",
    "import seaborn as sns\n"
   ]
  },
  {
   "cell_type": "code",
   "execution_count": 3,
   "id": "5fa0d06c-eb3b-441f-a531-5814e694e75f",
   "metadata": {},
   "outputs": [
    {
     "data": {
      "text/html": [
       "<div>\n",
       "<style scoped>\n",
       "    .dataframe tbody tr th:only-of-type {\n",
       "        vertical-align: middle;\n",
       "    }\n",
       "\n",
       "    .dataframe tbody tr th {\n",
       "        vertical-align: top;\n",
       "    }\n",
       "\n",
       "    .dataframe thead th {\n",
       "        text-align: right;\n",
       "    }\n",
       "</style>\n",
       "<table border=\"1\" class=\"dataframe\">\n",
       "  <thead>\n",
       "    <tr style=\"text-align: right;\">\n",
       "      <th></th>\n",
       "      <th>Unnamed: 0</th>\n",
       "      <th>Age Range</th>\n",
       "      <th>Head Size(cm^3)</th>\n",
       "      <th>Brain Weight(grams)</th>\n",
       "      <th>Unnamed: 4</th>\n",
       "      <th>Unnamed: 5</th>\n",
       "      <th>Unnamed: 6</th>\n",
       "    </tr>\n",
       "  </thead>\n",
       "  <tbody>\n",
       "    <tr>\n",
       "      <th>0</th>\n",
       "      <td>1</td>\n",
       "      <td>1</td>\n",
       "      <td>4512</td>\n",
       "      <td>1530</td>\n",
       "      <td>NaN</td>\n",
       "      <td>NaN</td>\n",
       "      <td>NaN</td>\n",
       "    </tr>\n",
       "    <tr>\n",
       "      <th>1</th>\n",
       "      <td>1</td>\n",
       "      <td>1</td>\n",
       "      <td>3738</td>\n",
       "      <td>1297</td>\n",
       "      <td>NaN</td>\n",
       "      <td>NaN</td>\n",
       "      <td>NaN</td>\n",
       "    </tr>\n",
       "    <tr>\n",
       "      <th>2</th>\n",
       "      <td>1</td>\n",
       "      <td>1</td>\n",
       "      <td>4261</td>\n",
       "      <td>1335</td>\n",
       "      <td>NaN</td>\n",
       "      <td>NaN</td>\n",
       "      <td>NaN</td>\n",
       "    </tr>\n",
       "    <tr>\n",
       "      <th>3</th>\n",
       "      <td>1</td>\n",
       "      <td>1</td>\n",
       "      <td>3777</td>\n",
       "      <td>1282</td>\n",
       "      <td>NaN</td>\n",
       "      <td>NaN</td>\n",
       "      <td>NaN</td>\n",
       "    </tr>\n",
       "    <tr>\n",
       "      <th>4</th>\n",
       "      <td>1</td>\n",
       "      <td>1</td>\n",
       "      <td>4177</td>\n",
       "      <td>1590</td>\n",
       "      <td>NaN</td>\n",
       "      <td>NaN</td>\n",
       "      <td>NaN</td>\n",
       "    </tr>\n",
       "  </tbody>\n",
       "</table>\n",
       "</div>"
      ],
      "text/plain": [
       "   Unnamed: 0  Age Range  Head Size(cm^3)  Brain Weight(grams)  Unnamed: 4  \\\n",
       "0           1          1             4512                 1530         NaN   \n",
       "1           1          1             3738                 1297         NaN   \n",
       "2           1          1             4261                 1335         NaN   \n",
       "3           1          1             3777                 1282         NaN   \n",
       "4           1          1             4177                 1590         NaN   \n",
       "\n",
       "   Unnamed: 5 Unnamed: 6  \n",
       "0         NaN        NaN  \n",
       "1         NaN        NaN  \n",
       "2         NaN        NaN  \n",
       "3         NaN        NaN  \n",
       "4         NaN        NaN  "
      ]
     },
     "execution_count": 3,
     "metadata": {},
     "output_type": "execute_result"
    }
   ],
   "source": [
    "df = pd.read_csv('human.csv')\n",
    "df.head()\n",
    "\n",
    "\n",
    "\n"
   ]
  },
  {
   "cell_type": "code",
   "execution_count": 4,
   "id": "768e320c-b6ee-45b6-96af-fa4841a4a60f",
   "metadata": {},
   "outputs": [
    {
     "name": "stdout",
     "output_type": "stream",
     "text": [
      "<class 'pandas.core.frame.DataFrame'>\n",
      "RangeIndex: 237 entries, 0 to 236\n",
      "Data columns (total 7 columns):\n",
      " #   Column               Non-Null Count  Dtype  \n",
      "---  ------               --------------  -----  \n",
      " 0   Unnamed: 0           237 non-null    int64  \n",
      " 1   Age Range            237 non-null    int64  \n",
      " 2   Head Size(cm^3)      237 non-null    int64  \n",
      " 3   Brain Weight(grams)  237 non-null    int64  \n",
      " 4   Unnamed: 4           0 non-null      float64\n",
      " 5   Unnamed: 5           0 non-null      float64\n",
      " 6   Unnamed: 6           1 non-null      object \n",
      "dtypes: float64(2), int64(4), object(1)\n",
      "memory usage: 13.1+ KB\n"
     ]
    }
   ],
   "source": [
    "df.info()"
   ]
  },
  {
   "cell_type": "code",
   "execution_count": 5,
   "id": "5abfa992-4201-4d6a-874f-a088e4e4d039",
   "metadata": {},
   "outputs": [
    {
     "data": {
      "text/plain": [
       "Unnamed: 0               0\n",
       "Age Range                0\n",
       "Head Size(cm^3)          0\n",
       "Brain Weight(grams)      0\n",
       "Unnamed: 4             237\n",
       "Unnamed: 5             237\n",
       "Unnamed: 6             236\n",
       "dtype: int64"
      ]
     },
     "execution_count": 5,
     "metadata": {},
     "output_type": "execute_result"
    }
   ],
   "source": [
    "df.isnull().sum()"
   ]
  },
  {
   "cell_type": "code",
   "execution_count": 6,
   "id": "78f18604-6fb4-4ead-a6d4-8ddcfa707080",
   "metadata": {},
   "outputs": [
    {
     "data": {
      "text/plain": [
       "(237, 7)"
      ]
     },
     "execution_count": 6,
     "metadata": {},
     "output_type": "execute_result"
    }
   ],
   "source": [
    "df.shape"
   ]
  },
  {
   "cell_type": "code",
   "execution_count": 7,
   "id": "58f10ea1-a531-4cd8-b415-1cf9135bf8c5",
   "metadata": {},
   "outputs": [],
   "source": [
    "#Taking x and y variables\n",
    "X = df['Head Size(cm^3)'].values\n",
    "Y =  df['Brain Weight(grams)'].values"
   ]
  },
  {
   "cell_type": "code",
   "execution_count": 8,
   "id": "af6a6f01-8048-43d8-9847-3968ddfad6df",
   "metadata": {},
   "outputs": [
    {
     "data": {
      "text/plain": [
       "(237,)"
      ]
     },
     "execution_count": 8,
     "metadata": {},
     "output_type": "execute_result"
    }
   ],
   "source": [
    "X.shape\n"
   ]
  },
  {
   "cell_type": "code",
   "execution_count": 9,
   "id": "e72929f7-68ea-40c8-961e-764f69865c40",
   "metadata": {},
   "outputs": [
    {
     "data": {
      "text/plain": [
       "(237,)"
      ]
     },
     "execution_count": 9,
     "metadata": {},
     "output_type": "execute_result"
    }
   ],
   "source": [
    "Y.shape"
   ]
  },
  {
   "cell_type": "code",
   "execution_count": 10,
   "id": "f040efd6-4471-4a60-9755-052a0e16e13f",
   "metadata": {},
   "outputs": [
    {
     "name": "stdout",
     "output_type": "stream",
     "text": [
      "0.26342933948939945 , 325.57342104944223\n"
     ]
    }
   ],
   "source": [
    "mean_X = np.mean(X)\n",
    "mean_Y = np.mean(Y)\n",
    "\n",
    "n = len(X)\n",
    "\n",
    "num =0\n",
    "denom = 0\n",
    "\n",
    "for i in range(n):\n",
    "    num += (X[i]-mean_X)* (Y[i]-mean_Y)\n",
    "    denom +=(X[i]-mean_X)**2\n",
    "m = num/denom\n",
    "c = mean_Y - (m*mean_X)\n",
    "\n",
    "print(m,',',c)"
   ]
  },
  {
   "cell_type": "code",
   "execution_count": 11,
   "id": "91b088f9-9aa4-4600-b3f5-71f1e82a6305",
   "metadata": {},
   "outputs": [
    {
     "data": {
      "text/plain": [
       "<matplotlib.collections.PathCollection at 0x16cb3bebb60>"
      ]
     },
     "execution_count": 11,
     "metadata": {},
     "output_type": "execute_result"
    },
    {
     "data": {
      "image/png": "[encoded data removed]",
      "text/plain": [
       "<Figure size 640x480 with 1 Axes>"
      ]
     },
     "metadata": {},
     "output_type": "display_data"
    }
   ],
   "source": [
    "plt.scatter(X,Y)"
   ]
  },
  {
   "cell_type": "code",
   "execution_count": 12,
   "id": "6121fe06-edb9-4d6e-b3b2-4fc245ec21e4",
   "metadata": {},
   "outputs": [],
   "source": [
    "min_x = np.min(X)-100\n",
    "max_x = np.max(X)+100"
   ]
  },
  {
   "cell_type": "code",
   "execution_count": 13,
   "id": "a57fbb83-fe38-4740-9542-7decf12b705c",
   "metadata": {},
   "outputs": [
    {
     "data": {
      "text/plain": [
       "Text(0, 0.5, 'Brain weight in grams')"
      ]
     },
     "execution_count": 13,
     "metadata": {},
     "output_type": "execute_result"
    },
    {
     "data": {
      "image/png": "[encoded data removed]",
      "text/plain": [
       "<Figure size 640x480 with 1 Axes>"
      ]
     },
     "metadata": {},
     "output_type": "display_data"
    }
   ],
   "source": [
    "x = np.linspace(min_x,max_x,1000)\n",
    "y = m*x+c\n",
    "plt.scatter(X,Y,color='g')\n",
    "plt.plot(x,y,color='r')\n",
    "plt.title('Simple Linear Regression')\n",
    "plt.xlabel('Head size cm^3')\n",
    "plt.ylabel('Brain weight in grams')"
   ]
  },
  {
   "cell_type": "code",
   "execution_count": 14,
   "id": "e1551da2-0cc3-48d2-af15-c963a5a99808",
   "metadata": {},
   "outputs": [
    {
     "name": "stdout",
     "output_type": "stream",
     "text": [
      "0.6393117199570003\n"
     ]
    }
   ],
   "source": [
    "sum_pred = 0\n",
    "sum_act = 0\n",
    "\n",
    "for i in range(n):\n",
    "    y_pred = (m*X[i]+c)\n",
    "    sum_pred += (Y[i]-y_pred)**2\n",
    "    sum_act +=(Y[i]-mean_Y)**2\n",
    "\n",
    "r2 = 1-(sum_pred/sum_act)\n",
    "print(r2)"
   ]
  },
  {
   "cell_type": "code",
   "execution_count": 15,
   "id": "68d204e8-b43a-4984-ac04-7c2f3ad73fb3",
   "metadata": {},
   "outputs": [
    {
     "data": {
      "text/plain": [
       "Unnamed: 0               0\n",
       "Age Range                0\n",
       "Head Size(cm^3)          0\n",
       "Brain Weight(grams)      0\n",
       "Unnamed: 4             237\n",
       "Unnamed: 5             237\n",
       "Unnamed: 6             236\n",
       "dtype: int64"
      ]
     },
     "execution_count": 15,
     "metadata": {},
     "output_type": "execute_result"
    }
   ],
   "source": [
    "df.isnull().sum()"
   ]
  },
  {
   "cell_type": "code",
   "execution_count": 16,
   "id": "c60333b4-e510-40c6-9abd-3997e7783071",
   "metadata": {},
   "outputs": [
    {
     "data": {
      "text/html": [
       "<div>\n",
       "<style scoped>\n",
       "    .dataframe tbody tr th:only-of-type {\n",
       "        vertical-align: middle;\n",
       "    }\n",
       "\n",
       "    .dataframe tbody tr th {\n",
       "        vertical-align: top;\n",
       "    }\n",
       "\n",
       "    .dataframe thead th {\n",
       "        text-align: right;\n",
       "    }\n",
       "</style>\n",
       "<table border=\"1\" class=\"dataframe\">\n",
       "  <thead>\n",
       "    <tr style=\"text-align: right;\">\n",
       "      <th></th>\n",
       "      <th>Unnamed: 0</th>\n",
       "      <th>Age Range</th>\n",
       "      <th>Head Size(cm^3)</th>\n",
       "      <th>Brain Weight(grams)</th>\n",
       "      <th>Unnamed: 4</th>\n",
       "      <th>Unnamed: 5</th>\n",
       "      <th>Unnamed: 6</th>\n",
       "    </tr>\n",
       "  </thead>\n",
       "  <tbody>\n",
       "    <tr>\n",
       "      <th>0</th>\n",
       "      <td>False</td>\n",
       "      <td>False</td>\n",
       "      <td>False</td>\n",
       "      <td>False</td>\n",
       "      <td>True</td>\n",
       "      <td>True</td>\n",
       "      <td>True</td>\n",
       "    </tr>\n",
       "    <tr>\n",
       "      <th>1</th>\n",
       "      <td>False</td>\n",
       "      <td>False</td>\n",
       "      <td>False</td>\n",
       "      <td>False</td>\n",
       "      <td>True</td>\n",
       "      <td>True</td>\n",
       "      <td>True</td>\n",
       "    </tr>\n",
       "    <tr>\n",
       "      <th>2</th>\n",
       "      <td>False</td>\n",
       "      <td>False</td>\n",
       "      <td>False</td>\n",
       "      <td>False</td>\n",
       "      <td>True</td>\n",
       "      <td>True</td>\n",
       "      <td>True</td>\n",
       "    </tr>\n",
       "    <tr>\n",
       "      <th>3</th>\n",
       "      <td>False</td>\n",
       "      <td>False</td>\n",
       "      <td>False</td>\n",
       "      <td>False</td>\n",
       "      <td>True</td>\n",
       "      <td>True</td>\n",
       "      <td>True</td>\n",
       "    </tr>\n",
       "    <tr>\n",
       "      <th>4</th>\n",
       "      <td>False</td>\n",
       "      <td>False</td>\n",
       "      <td>False</td>\n",
       "      <td>False</td>\n",
       "      <td>True</td>\n",
       "      <td>True</td>\n",
       "      <td>True</td>\n",
       "    </tr>\n",
       "    <tr>\n",
       "      <th>...</th>\n",
       "      <td>...</td>\n",
       "      <td>...</td>\n",
       "      <td>...</td>\n",
       "      <td>...</td>\n",
       "      <td>...</td>\n",
       "      <td>...</td>\n",
       "      <td>...</td>\n",
       "    </tr>\n",
       "    <tr>\n",
       "      <th>232</th>\n",
       "      <td>False</td>\n",
       "      <td>False</td>\n",
       "      <td>False</td>\n",
       "      <td>False</td>\n",
       "      <td>True</td>\n",
       "      <td>True</td>\n",
       "      <td>True</td>\n",
       "    </tr>\n",
       "    <tr>\n",
       "      <th>233</th>\n",
       "      <td>False</td>\n",
       "      <td>False</td>\n",
       "      <td>False</td>\n",
       "      <td>False</td>\n",
       "      <td>True</td>\n",
       "      <td>True</td>\n",
       "      <td>True</td>\n",
       "    </tr>\n",
       "    <tr>\n",
       "      <th>234</th>\n",
       "      <td>False</td>\n",
       "      <td>False</td>\n",
       "      <td>False</td>\n",
       "      <td>False</td>\n",
       "      <td>True</td>\n",
       "      <td>True</td>\n",
       "      <td>True</td>\n",
       "    </tr>\n",
       "    <tr>\n",
       "      <th>235</th>\n",
       "      <td>False</td>\n",
       "      <td>False</td>\n",
       "      <td>False</td>\n",
       "      <td>False</td>\n",
       "      <td>True</td>\n",
       "      <td>True</td>\n",
       "      <td>True</td>\n",
       "    </tr>\n",
       "    <tr>\n",
       "      <th>236</th>\n",
       "      <td>False</td>\n",
       "      <td>False</td>\n",
       "      <td>False</td>\n",
       "      <td>False</td>\n",
       "      <td>True</td>\n",
       "      <td>True</td>\n",
       "      <td>True</td>\n",
       "    </tr>\n",
       "  </tbody>\n",
       "</table>\n",
       "<p>237 rows × 7 columns</p>\n",
       "</div>"
      ],
      "text/plain": [
       "     Unnamed: 0  Age Range  Head Size(cm^3)  Brain Weight(grams)  Unnamed: 4  \\\n",
       "0         False      False            False                False        True   \n",
       "1         False      False            False                False        True   \n",
       "2         False      False            False                False        True   \n",
       "3         False      False            False                False        True   \n",
       "4         False      False            False                False        True   \n",
       "..          ...        ...              ...                  ...         ...   \n",
       "232       False      False            False                False        True   \n",
       "233       False      False            False                False        True   \n",
       "234       False      False            False                False        True   \n",
       "235       False      False            False                False        True   \n",
       "236       False      False            False                False        True   \n",
       "\n",
       "     Unnamed: 5  Unnamed: 6  \n",
       "0          True        True  \n",
       "1          True        True  \n",
       "2          True        True  \n",
       "3          True        True  \n",
       "4          True        True  \n",
       "..          ...         ...  \n",
       "232        True        True  \n",
       "233        True        True  \n",
       "234        True        True  \n",
       "235        True        True  \n",
       "236        True        True  \n",
       "\n",
       "[237 rows x 7 columns]"
      ]
     },
     "execution_count": 16,
     "metadata": {},
     "output_type": "execute_result"
    }
   ],
   "source": [
    "df.isnull()"
   ]
  },
  {
   "cell_type": "code",
   "execution_count": 17,
   "id": "22a3196a-d20d-4ec0-b00d-1bb32391176d",
   "metadata": {},
   "outputs": [],
   "source": [
    "y=(m*3758+c)"
   ]
  },
  {
   "cell_type": "code",
   "execution_count": 18,
   "id": "8aad0773-fa6f-47d5-8f17-199768094eeb",
   "metadata": {},
   "outputs": [
    {
     "name": "stdout",
     "output_type": "stream",
     "text": [
      "predict value: 1315.5408788506054\n"
     ]
    }
   ],
   "source": [
    "print(\"predict value:\",y)"
   ]
  },
  {
   "cell_type": "code",
   "execution_count": 19,
   "id": "fc67bf94-dc80-4685-9c05-d5d5f9153698",
   "metadata": {},
   "outputs": [],
   "source": [
    "plt.show()"
   ]
  },
  {
   "cell_type": "code",
   "execution_count": 20,
   "id": "48b9cd9f-ba90-4503-b4e1-590ce9e2cd73",
   "metadata": {},
   "outputs": [
    {
     "data": {
      "text/html": [
       "<div>\n",
       "<style scoped>\n",
       "    .dataframe tbody tr th:only-of-type {\n",
       "        vertical-align: middle;\n",
       "    }\n",
       "\n",
       "    .dataframe tbody tr th {\n",
       "        vertical-align: top;\n",
       "    }\n",
       "\n",
       "    .dataframe thead th {\n",
       "        text-align: right;\n",
       "    }\n",
       "</style>\n",
       "<table border=\"1\" class=\"dataframe\">\n",
       "  <thead>\n",
       "    <tr style=\"text-align: right;\">\n",
       "      <th></th>\n",
       "      <th>Unnamed: 0</th>\n",
       "      <th>Age Range</th>\n",
       "      <th>Head Size(cm^3)</th>\n",
       "      <th>Brain Weight(grams)</th>\n",
       "      <th>Unnamed: 4</th>\n",
       "      <th>Unnamed: 5</th>\n",
       "      <th>Unnamed: 6</th>\n",
       "    </tr>\n",
       "  </thead>\n",
       "  <tbody>\n",
       "  </tbody>\n",
       "</table>\n",
       "</div>"
      ],
      "text/plain": [
       "Empty DataFrame\n",
       "Columns: [Unnamed: 0, Age Range, Head Size(cm^3), Brain Weight(grams), Unnamed: 4, Unnamed: 5, Unnamed: 6]\n",
       "Index: []"
      ]
     },
     "execution_count": 20,
     "metadata": {},
     "output_type": "execute_result"
    }
   ],
   "source": [
    "df.dropna()"
   ]
  },
  {
   "cell_type": "code",
   "execution_count": 21,
   "id": "4bdcc993-a941-4368-bac2-81b0cc522b6b",
   "metadata": {},
   "outputs": [],
   "source": [
    "xmean=x.mean()"
   ]
  },
  {
   "cell_type": "code",
   "execution_count": 22,
   "id": "27d60a96-4db1-43c0-954d-ce60cfea1ef3",
   "metadata": {},
   "outputs": [
    {
     "data": {
      "text/plain": [
       "np.float64(3733.5)"
      ]
     },
     "execution_count": 22,
     "metadata": {},
     "output_type": "execute_result"
    }
   ],
   "source": [
    "xmean"
   ]
  },
  {
   "cell_type": "code",
   "execution_count": 23,
   "id": "3351e2ab-a3a1-4181-8fc5-486c7c2b6e90",
   "metadata": {},
   "outputs": [],
   "source": [
    "ymean=y.mean()"
   ]
  },
  {
   "cell_type": "code",
   "execution_count": 24,
   "id": "6e84a80a-f76a-4019-8097-a2547dd10313",
   "metadata": {},
   "outputs": [
    {
     "data": {
      "text/plain": [
       "np.float64(1315.5408788506054)"
      ]
     },
     "execution_count": 24,
     "metadata": {},
     "output_type": "execute_result"
    }
   ],
   "source": [
    "ymean"
   ]
  },
  {
   "cell_type": "code",
   "execution_count": 25,
   "id": "014bf2f3-2a1f-4817-8d3c-98b890173fee",
   "metadata": {},
   "outputs": [],
   "source": [
    "plt.show()"
   ]
  },
  {
   "cell_type": "code",
   "execution_count": 26,
   "id": "8674e2db-a885-4853-ab56-ee6c54cbeda8",
   "metadata": {},
   "outputs": [
    {
     "name": "stdout",
     "output_type": "stream",
     "text": [
      "predict value: 1315.5408788506054\n"
     ]
    }
   ],
   "source": [
    "print(\"predict value:\",y)"
   ]
  },
  {
   "cell_type": "code",
   "execution_count": 27,
   "id": "37513288-46e6-4a2d-952c-c080610c010f",
   "metadata": {},
   "outputs": [
    {
     "name": "stdout",
     "output_type": "stream",
     "text": [
      "predict value: [2620.         2622.22922923 2624.45845846 2626.68768769 2628.91691692\n",
      " 2631.14614615 2633.37537538 2635.6046046  2637.83383383 2640.06306306\n",
      " 2642.29229229 2644.52152152 2646.75075075 2648.97997998 2651.20920921\n",
      " 2653.43843844 2655.66766767 2657.8968969  2660.12612613 2662.35535536\n",
      " 2664.58458458 2666.81381381 2669.04304304 2671.27227227 2673.5015015\n",
      " 2675.73073073 2677.95995996 2680.18918919 2682.41841842 2684.64764765\n",
      " 2686.87687688 2689.10610611 2691.33533534 2693.56456456 2695.79379379\n",
      " 2698.02302302 2700.25225225 2702.48148148 2704.71071071 2706.93993994\n",
      " 2709.16916917 2711.3983984  2713.62762763 2715.85685686 2718.08608609\n",
      " 2720.31531532 2722.54454454 2724.77377377 2727.003003   2729.23223223\n",
      " 2731.46146146 2733.69069069 2735.91991992 2738.14914915 2740.37837838\n",
      " 2742.60760761 2744.83683684 2747.06606607 2749.2952953  2751.52452452\n",
      " 2753.75375375 2755.98298298 2758.21221221 2760.44144144 2762.67067067\n",
      " 2764.8998999  2767.12912913 2769.35835836 2771.58758759 2773.81681682\n",
      " 2776.04604605 2778.27527528 2780.5045045  2782.73373373 2784.96296296\n",
      " 2787.19219219 2789.42142142 2791.65065065 2793.87987988 2796.10910911\n",
      " 2798.33833834 2800.56756757 2802.7967968  2805.02602603 2807.25525526\n",
      " 2809.48448448 2811.71371371 2813.94294294 2816.17217217 2818.4014014\n",
      " 2820.63063063 2822.85985986 2825.08908909 2827.31831832 2829.54754755\n",
      " 2831.77677678 2834.00600601 2836.23523524 2838.46446446 2840.69369369\n",
      " 2842.92292292 2845.15215215 2847.38138138 2849.61061061 2851.83983984\n",
      " 2854.06906907 2856.2982983  2858.52752753 2860.75675676 2862.98598599\n",
      " 2865.21521522 2867.44444444 2869.67367367 2871.9029029  2874.13213213\n",
      " 2876.36136136 2878.59059059 2880.81981982 2883.04904905 2885.27827828\n",
      " 2887.50750751 2889.73673674 2891.96596597 2894.1951952  2896.42442442\n",
      " 2898.65365365 2900.88288288 2903.11211211 2905.34134134 2907.57057057\n",
      " 2909.7997998  2912.02902903 2914.25825826 2916.48748749 2918.71671672\n",
      " 2920.94594595 2923.17517518 2925.4044044  2927.63363363 2929.86286286\n",
      " 2932.09209209 2934.32132132 2936.55055055 2938.77977978 2941.00900901\n",
      " 2943.23823824 2945.46746747 2947.6966967  2949.92592593 2952.15515516\n",
      " 2954.38438438 2956.61361361 2958.84284284 2961.07207207 2963.3013013\n",
      " 2965.53053053 2967.75975976 2969.98898899 2972.21821822 2974.44744745\n",
      " 2976.67667668 2978.90590591 2981.13513514 2983.36436436 2985.59359359\n",
      " 2987.82282282 2990.05205205 2992.28128128 2994.51051051 2996.73973974\n",
      " 2998.96896897 3001.1981982  3003.42742743 3005.65665666 3007.88588589\n",
      " 3010.11511512 3012.34434434 3014.57357357 3016.8028028  3019.03203203\n",
      " 3021.26126126 3023.49049049 3025.71971972 3027.94894895 3030.17817818\n",
      " 3032.40740741 3034.63663664 3036.86586587 3039.0950951  3041.32432432\n",
      " 3043.55355355 3045.78278278 3048.01201201 3050.24124124 3052.47047047\n",
      " 3054.6996997  3056.92892893 3059.15815816 3061.38738739 3063.61661662\n",
      " 3065.84584585 3068.07507508 3070.3043043  3072.53353353 3074.76276276\n",
      " 3076.99199199 3079.22122122 3081.45045045 3083.67967968 3085.90890891\n",
      " 3088.13813814 3090.36736737 3092.5965966  3094.82582583 3097.05505506\n",
      " 3099.28428428 3101.51351351 3103.74274274 3105.97197197 3108.2012012\n",
      " 3110.43043043 3112.65965966 3114.88888889 3117.11811812 3119.34734735\n",
      " 3121.57657658 3123.80580581 3126.03503504 3128.26426426 3130.49349349\n",
      " 3132.72272272 3134.95195195 3137.18118118 3139.41041041 3141.63963964\n",
      " 3143.86886887 3146.0980981  3148.32732733 3150.55655656 3152.78578579\n",
      " 3155.01501502 3157.24424424 3159.47347347 3161.7027027  3163.93193193\n",
      " 3166.16116116 3168.39039039 3170.61961962 3172.84884885 3175.07807808\n",
      " 3177.30730731 3179.53653654 3181.76576577 3183.99499499 3186.22422422\n",
      " 3188.45345345 3190.68268268 3192.91191191 3195.14114114 3197.37037037\n",
      " 3199.5995996  3201.82882883 3204.05805806 3206.28728729 3208.51651652\n",
      " 3210.74574575 3212.97497497 3215.2042042  3217.43343343 3219.66266266\n",
      " 3221.89189189 3224.12112112 3226.35035035 3228.57957958 3230.80880881\n",
      " 3233.03803804 3235.26726727 3237.4964965  3239.72572573 3241.95495495\n",
      " 3244.18418418 3246.41341341 3248.64264264 3250.87187187 3253.1011011\n",
      " 3255.33033033 3257.55955956 3259.78878879 3262.01801802 3264.24724725\n",
      " 3266.47647648 3268.70570571 3270.93493493 3273.16416416 3275.39339339\n",
      " 3277.62262262 3279.85185185 3282.08108108 3284.31031031 3286.53953954\n",
      " 3288.76876877 3290.997998   3293.22722723 3295.45645646 3297.68568569\n",
      " 3299.91491491 3302.14414414 3304.37337337 3306.6026026  3308.83183183\n",
      " 3311.06106106 3313.29029029 3315.51951952 3317.74874875 3319.97797798\n",
      " 3322.20720721 3324.43643644 3326.66566567 3328.89489489 3331.12412412\n",
      " 3333.35335335 3335.58258258 3337.81181181 3340.04104104 3342.27027027\n",
      " 3344.4994995  3346.72872873 3348.95795796 3351.18718719 3353.41641642\n",
      " 3355.64564565 3357.87487487 3360.1041041  3362.33333333 3364.56256256\n",
      " 3366.79179179 3369.02102102 3371.25025025 3373.47947948 3375.70870871\n",
      " 3377.93793794 3380.16716717 3382.3963964  3384.62562563 3386.85485485\n",
      " 3389.08408408 3391.31331331 3393.54254254 3395.77177177 3398.001001\n",
      " 3400.23023023 3402.45945946 3404.68868869 3406.91791792 3409.14714715\n",
      " 3411.37637638 3413.60560561 3415.83483483 3418.06406406 3420.29329329\n",
      " 3422.52252252 3424.75175175 3426.98098098 3429.21021021 3431.43943944\n",
      " 3433.66866867 3435.8978979  3438.12712713 3440.35635636 3442.58558559\n",
      " 3444.81481481 3447.04404404 3449.27327327 3451.5025025  3453.73173173\n",
      " 3455.96096096 3458.19019019 3460.41941942 3462.64864865 3464.87787788\n",
      " 3467.10710711 3469.33633634 3471.56556557 3473.79479479 3476.02402402\n",
      " 3478.25325325 3480.48248248 3482.71171171 3484.94094094 3487.17017017\n",
      " 3489.3993994  3491.62862863 3493.85785786 3496.08708709 3498.31631632\n",
      " 3500.54554555 3502.77477477 3505.004004   3507.23323323 3509.46246246\n",
      " 3511.69169169 3513.92092092 3516.15015015 3518.37937938 3520.60860861\n",
      " 3522.83783784 3525.06706707 3527.2962963  3529.52552553 3531.75475475\n",
      " 3533.98398398 3536.21321321 3538.44244244 3540.67167167 3542.9009009\n",
      " 3545.13013013 3547.35935936 3549.58858859 3551.81781782 3554.04704705\n",
      " 3556.27627628 3558.50550551 3560.73473473 3562.96396396 3565.19319319\n",
      " 3567.42242242 3569.65165165 3571.88088088 3574.11011011 3576.33933934\n",
      " 3578.56856857 3580.7977978  3583.02702703 3585.25625626 3587.48548549\n",
      " 3589.71471471 3591.94394394 3594.17317317 3596.4024024  3598.63163163\n",
      " 3600.86086086 3603.09009009 3605.31931932 3607.54854855 3609.77777778\n",
      " 3612.00700701 3614.23623624 3616.46546547 3618.69469469 3620.92392392\n",
      " 3623.15315315 3625.38238238 3627.61161161 3629.84084084 3632.07007007\n",
      " 3634.2992993  3636.52852853 3638.75775776 3640.98698699 3643.21621622\n",
      " 3645.44544545 3647.67467467 3649.9039039  3652.13313313 3654.36236236\n",
      " 3656.59159159 3658.82082082 3661.05005005 3663.27927928 3665.50850851\n",
      " 3667.73773774 3669.96696697 3672.1961962  3674.42542543 3676.65465465\n",
      " 3678.88388388 3681.11311311 3683.34234234 3685.57157157 3687.8008008\n",
      " 3690.03003003 3692.25925926 3694.48848849 3696.71771772 3698.94694695\n",
      " 3701.17617618 3703.40540541 3705.63463463 3707.86386386 3710.09309309\n",
      " 3712.32232232 3714.55155155 3716.78078078 3719.01001001 3721.23923924\n",
      " 3723.46846847 3725.6976977  3727.92692693 3730.15615616 3732.38538539\n",
      " 3734.61461461 3736.84384384 3739.07307307 3741.3023023  3743.53153153\n",
      " 3745.76076076 3747.98998999 3750.21921922 3752.44844845 3754.67767768\n",
      " 3756.90690691 3759.13613614 3761.36536537 3763.59459459 3765.82382382\n",
      " 3768.05305305 3770.28228228 3772.51151151 3774.74074074 3776.96996997\n",
      " 3779.1991992  3781.42842843 3783.65765766 3785.88688689 3788.11611612\n",
      " 3790.34534535 3792.57457457 3794.8038038  3797.03303303 3799.26226226\n",
      " 3801.49149149 3803.72072072 3805.94994995 3808.17917918 3810.40840841\n",
      " 3812.63763764 3814.86686687 3817.0960961  3819.32532533 3821.55455455\n",
      " 3823.78378378 3826.01301301 3828.24224224 3830.47147147 3832.7007007\n",
      " 3834.92992993 3837.15915916 3839.38838839 3841.61761762 3843.84684685\n",
      " 3846.07607608 3848.30530531 3850.53453453 3852.76376376 3854.99299299\n",
      " 3857.22222222 3859.45145145 3861.68068068 3863.90990991 3866.13913914\n",
      " 3868.36836837 3870.5975976  3872.82682683 3875.05605606 3877.28528529\n",
      " 3879.51451451 3881.74374374 3883.97297297 3886.2022022  3888.43143143\n",
      " 3890.66066066 3892.88988989 3895.11911912 3897.34834835 3899.57757758\n",
      " 3901.80680681 3904.03603604 3906.26526527 3908.49449449 3910.72372372\n",
      " 3912.95295295 3915.18218218 3917.41141141 3919.64064064 3921.86986987\n",
      " 3924.0990991  3926.32832833 3928.55755756 3930.78678679 3933.01601602\n",
      " 3935.24524525 3937.47447447 3939.7037037  3941.93293293 3944.16216216\n",
      " 3946.39139139 3948.62062062 3950.84984985 3953.07907908 3955.30830831\n",
      " 3957.53753754 3959.76676677 3961.995996   3964.22522523 3966.45445445\n",
      " 3968.68368368 3970.91291291 3973.14214214 3975.37137137 3977.6006006\n",
      " 3979.82982983 3982.05905906 3984.28828829 3986.51751752 3988.74674675\n",
      " 3990.97597598 3993.20520521 3995.43443443 3997.66366366 3999.89289289\n",
      " 4002.12212212 4004.35135135 4006.58058058 4008.80980981 4011.03903904\n",
      " 4013.26826827 4015.4974975  4017.72672673 4019.95595596 4022.18518519\n",
      " 4024.41441441 4026.64364364 4028.87287287 4031.1021021  4033.33133133\n",
      " 4035.56056056 4037.78978979 4040.01901902 4042.24824825 4044.47747748\n",
      " 4046.70670671 4048.93593594 4051.16516517 4053.39439439 4055.62362362\n",
      " 4057.85285285 4060.08208208 4062.31131131 4064.54054054 4066.76976977\n",
      " 4068.998999   4071.22822823 4073.45745746 4075.68668669 4077.91591592\n",
      " 4080.14514515 4082.37437437 4084.6036036  4086.83283283 4089.06206206\n",
      " 4091.29129129 4093.52052052 4095.74974975 4097.97897898 4100.20820821\n",
      " 4102.43743744 4104.66666667 4106.8958959  4109.12512513 4111.35435435\n",
      " 4113.58358358 4115.81281281 4118.04204204 4120.27127127 4122.5005005\n",
      " 4124.72972973 4126.95895896 4129.18818819 4131.41741742 4133.64664665\n",
      " 4135.87587588 4138.10510511 4140.33433433 4142.56356356 4144.79279279\n",
      " 4147.02202202 4149.25125125 4151.48048048 4153.70970971 4155.93893894\n",
      " 4158.16816817 4160.3973974  4162.62662663 4164.85585586 4167.08508509\n",
      " 4169.31431431 4171.54354354 4173.77277277 4176.002002   4178.23123123\n",
      " 4180.46046046 4182.68968969 4184.91891892 4187.14814815 4189.37737738\n",
      " 4191.60660661 4193.83583584 4196.06506507 4198.29429429 4200.52352352\n",
      " 4202.75275275 4204.98198198 4207.21121121 4209.44044044 4211.66966967\n",
      " 4213.8988989  4216.12812813 4218.35735736 4220.58658659 4222.81581582\n",
      " 4225.04504505 4227.27427427 4229.5035035  4231.73273273 4233.96196196\n",
      " 4236.19119119 4238.42042042 4240.64964965 4242.87887888 4245.10810811\n",
      " 4247.33733734 4249.56656657 4251.7957958  4254.02502503 4256.25425425\n",
      " 4258.48348348 4260.71271271 4262.94194194 4265.17117117 4267.4004004\n",
      " 4269.62962963 4271.85885886 4274.08808809 4276.31731732 4278.54654655\n",
      " 4280.77577578 4283.00500501 4285.23423423 4287.46346346 4289.69269269\n",
      " 4291.92192192 4294.15115115 4296.38038038 4298.60960961 4300.83883884\n",
      " 4303.06806807 4305.2972973  4307.52652653 4309.75575576 4311.98498498\n",
      " 4314.21421421 4316.44344344 4318.67267267 4320.9019019  4323.13113113\n",
      " 4325.36036036 4327.58958959 4329.81881882 4332.04804805 4334.27727728\n",
      " 4336.50650651 4338.73573574 4340.96496496 4343.19419419 4345.42342342\n",
      " 4347.65265265 4349.88188188 4352.11111111 4354.34034034 4356.56956957\n",
      " 4358.7987988  4361.02802803 4363.25725726 4365.48648649 4367.71571572\n",
      " 4369.94494494 4372.17417417 4374.4034034  4376.63263263 4378.86186186\n",
      " 4381.09109109 4383.32032032 4385.54954955 4387.77877878 4390.00800801\n",
      " 4392.23723724 4394.46646647 4396.6956957  4398.92492492 4401.15415415\n",
      " 4403.38338338 4405.61261261 4407.84184184 4410.07107107 4412.3003003\n",
      " 4414.52952953 4416.75875876 4418.98798799 4421.21721722 4423.44644645\n",
      " 4425.67567568 4427.9049049  4430.13413413 4432.36336336 4434.59259259\n",
      " 4436.82182182 4439.05105105 4441.28028028 4443.50950951 4445.73873874\n",
      " 4447.96796797 4450.1971972  4452.42642643 4454.65565566 4456.88488488\n",
      " 4459.11411411 4461.34334334 4463.57257257 4465.8018018  4468.03103103\n",
      " 4470.26026026 4472.48948949 4474.71871872 4476.94794795 4479.17717718\n",
      " 4481.40640641 4483.63563564 4485.86486486 4488.09409409 4490.32332332\n",
      " 4492.55255255 4494.78178178 4497.01101101 4499.24024024 4501.46946947\n",
      " 4503.6986987  4505.92792793 4508.15715716 4510.38638639 4512.61561562\n",
      " 4514.84484484 4517.07407407 4519.3033033  4521.53253253 4523.76176176\n",
      " 4525.99099099 4528.22022022 4530.44944945 4532.67867868 4534.90790791\n",
      " 4537.13713714 4539.36636637 4541.5955956  4543.82482482 4546.05405405\n",
      " 4548.28328328 4550.51251251 4552.74174174 4554.97097097 4557.2002002\n",
      " 4559.42942943 4561.65865866 4563.88788789 4566.11711712 4568.34634635\n",
      " 4570.57557558 4572.8048048  4575.03403403 4577.26326326 4579.49249249\n",
      " 4581.72172172 4583.95095095 4586.18018018 4588.40940941 4590.63863864\n",
      " 4592.86786787 4595.0970971  4597.32632633 4599.55555556 4601.78478478\n",
      " 4604.01401401 4606.24324324 4608.47247247 4610.7017017  4612.93093093\n",
      " 4615.16016016 4617.38938939 4619.61861862 4621.84784785 4624.07707708\n",
      " 4626.30630631 4628.53553554 4630.76476476 4632.99399399 4635.22322322\n",
      " 4637.45245245 4639.68168168 4641.91091091 4644.14014014 4646.36936937\n",
      " 4648.5985986  4650.82782783 4653.05705706 4655.28628629 4657.51551552\n",
      " 4659.74474474 4661.97397397 4664.2032032  4666.43243243 4668.66166166\n",
      " 4670.89089089 4673.12012012 4675.34934935 4677.57857858 4679.80780781\n",
      " 4682.03703704 4684.26626627 4686.4954955  4688.72472472 4690.95395395\n",
      " 4693.18318318 4695.41241241 4697.64164164 4699.87087087 4702.1001001\n",
      " 4704.32932933 4706.55855856 4708.78778779 4711.01701702 4713.24624625\n",
      " 4715.47547548 4717.7047047  4719.93393393 4722.16316316 4724.39239239\n",
      " 4726.62162162 4728.85085085 4731.08008008 4733.30930931 4735.53853854\n",
      " 4737.76776777 4739.996997   4742.22622623 4744.45545546 4746.68468468\n",
      " 4748.91391391 4751.14314314 4753.37237237 4755.6016016  4757.83083083\n",
      " 4760.06006006 4762.28928929 4764.51851852 4766.74774775 4768.97697698\n",
      " 4771.20620621 4773.43543544 4775.66466466 4777.89389389 4780.12312312\n",
      " 4782.35235235 4784.58158158 4786.81081081 4789.04004004 4791.26926927\n",
      " 4793.4984985  4795.72772773 4797.95695696 4800.18618619 4802.41541542\n",
      " 4804.64464464 4806.87387387 4809.1031031  4811.33233233 4813.56156156\n",
      " 4815.79079079 4818.02002002 4820.24924925 4822.47847848 4824.70770771\n",
      " 4826.93693694 4829.16616617 4831.3953954  4833.62462462 4835.85385385\n",
      " 4838.08308308 4840.31231231 4842.54154154 4844.77077077 4847.        ]\n"
     ]
    }
   ],
   "source": [
    "print(\"predict value:\",x)"
   ]
  },
  {
   "cell_type": "code",
   "execution_count": 28,
   "id": "91d9f642-185d-442e-9778-e4edc0197aa3",
   "metadata": {},
   "outputs": [
    {
     "data": {
      "text/html": [
       "<div>\n",
       "<style scoped>\n",
       "    .dataframe tbody tr th:only-of-type {\n",
       "        vertical-align: middle;\n",
       "    }\n",
       "\n",
       "    .dataframe tbody tr th {\n",
       "        vertical-align: top;\n",
       "    }\n",
       "\n",
       "    .dataframe thead th {\n",
       "        text-align: right;\n",
       "    }\n",
       "</style>\n",
       "<table border=\"1\" class=\"dataframe\">\n",
       "  <thead>\n",
       "    <tr style=\"text-align: right;\">\n",
       "      <th></th>\n",
       "      <th>Unnamed: 0</th>\n",
       "      <th>Age Range</th>\n",
       "      <th>Head Size(cm^3)</th>\n",
       "      <th>Brain Weight(grams)</th>\n",
       "      <th>Unnamed: 4</th>\n",
       "      <th>Unnamed: 5</th>\n",
       "      <th>Unnamed: 6</th>\n",
       "    </tr>\n",
       "  </thead>\n",
       "  <tbody>\n",
       "    <tr>\n",
       "      <th>0</th>\n",
       "      <td>1</td>\n",
       "      <td>1</td>\n",
       "      <td>4512</td>\n",
       "      <td>1530</td>\n",
       "      <td>NaN</td>\n",
       "      <td>NaN</td>\n",
       "      <td>NaN</td>\n",
       "    </tr>\n",
       "    <tr>\n",
       "      <th>1</th>\n",
       "      <td>1</td>\n",
       "      <td>1</td>\n",
       "      <td>3738</td>\n",
       "      <td>1297</td>\n",
       "      <td>NaN</td>\n",
       "      <td>NaN</td>\n",
       "      <td>NaN</td>\n",
       "    </tr>\n",
       "    <tr>\n",
       "      <th>2</th>\n",
       "      <td>1</td>\n",
       "      <td>1</td>\n",
       "      <td>4261</td>\n",
       "      <td>1335</td>\n",
       "      <td>NaN</td>\n",
       "      <td>NaN</td>\n",
       "      <td>NaN</td>\n",
       "    </tr>\n",
       "    <tr>\n",
       "      <th>3</th>\n",
       "      <td>1</td>\n",
       "      <td>1</td>\n",
       "      <td>3777</td>\n",
       "      <td>1282</td>\n",
       "      <td>NaN</td>\n",
       "      <td>NaN</td>\n",
       "      <td>NaN</td>\n",
       "    </tr>\n",
       "    <tr>\n",
       "      <th>4</th>\n",
       "      <td>1</td>\n",
       "      <td>1</td>\n",
       "      <td>4177</td>\n",
       "      <td>1590</td>\n",
       "      <td>NaN</td>\n",
       "      <td>NaN</td>\n",
       "      <td>NaN</td>\n",
       "    </tr>\n",
       "  </tbody>\n",
       "</table>\n",
       "</div>"
      ],
      "text/plain": [
       "   Unnamed: 0  Age Range  Head Size(cm^3)  Brain Weight(grams)  Unnamed: 4  \\\n",
       "0           1          1             4512                 1530         NaN   \n",
       "1           1          1             3738                 1297         NaN   \n",
       "2           1          1             4261                 1335         NaN   \n",
       "3           1          1             3777                 1282         NaN   \n",
       "4           1          1             4177                 1590         NaN   \n",
       "\n",
       "   Unnamed: 5 Unnamed: 6  \n",
       "0         NaN        NaN  \n",
       "1         NaN        NaN  \n",
       "2         NaN        NaN  \n",
       "3         NaN        NaN  \n",
       "4         NaN        NaN  "
      ]
     },
     "execution_count": 28,
     "metadata": {},
     "output_type": "execute_result"
    }
   ],
   "source": [
    "duplicate_data = pd.read_csv('human.csv')\n",
    "duplicate_data.head(5)"
   ]
  },
  {
   "cell_type": "code",
   "execution_count": 29,
   "id": "0e0dc833-b765-4400-bc45-1d38a8bd10a2",
   "metadata": {},
   "outputs": [
    {
     "data": {
      "text/html": [
       "<div>\n",
       "<style scoped>\n",
       "    .dataframe tbody tr th:only-of-type {\n",
       "        vertical-align: middle;\n",
       "    }\n",
       "\n",
       "    .dataframe tbody tr th {\n",
       "        vertical-align: top;\n",
       "    }\n",
       "\n",
       "    .dataframe thead th {\n",
       "        text-align: right;\n",
       "    }\n",
       "</style>\n",
       "<table border=\"1\" class=\"dataframe\">\n",
       "  <thead>\n",
       "    <tr style=\"text-align: right;\">\n",
       "      <th></th>\n",
       "      <th>Unnamed: 0</th>\n",
       "      <th>Age Range</th>\n",
       "      <th>Head Size(cm^3)</th>\n",
       "      <th>Brain Weight(grams)</th>\n",
       "      <th>Unnamed: 4</th>\n",
       "      <th>Unnamed: 5</th>\n",
       "      <th>Unnamed: 6</th>\n",
       "    </tr>\n",
       "  </thead>\n",
       "  <tbody>\n",
       "    <tr>\n",
       "      <th>0</th>\n",
       "      <td>1</td>\n",
       "      <td>1</td>\n",
       "      <td>4512</td>\n",
       "      <td>1530</td>\n",
       "      <td>NaN</td>\n",
       "      <td>NaN</td>\n",
       "      <td>NaN</td>\n",
       "    </tr>\n",
       "    <tr>\n",
       "      <th>1</th>\n",
       "      <td>1</td>\n",
       "      <td>1</td>\n",
       "      <td>3738</td>\n",
       "      <td>1297</td>\n",
       "      <td>NaN</td>\n",
       "      <td>NaN</td>\n",
       "      <td>NaN</td>\n",
       "    </tr>\n",
       "    <tr>\n",
       "      <th>2</th>\n",
       "      <td>1</td>\n",
       "      <td>1</td>\n",
       "      <td>4261</td>\n",
       "      <td>1335</td>\n",
       "      <td>NaN</td>\n",
       "      <td>NaN</td>\n",
       "      <td>NaN</td>\n",
       "    </tr>\n",
       "    <tr>\n",
       "      <th>3</th>\n",
       "      <td>1</td>\n",
       "      <td>1</td>\n",
       "      <td>3777</td>\n",
       "      <td>1282</td>\n",
       "      <td>NaN</td>\n",
       "      <td>NaN</td>\n",
       "      <td>NaN</td>\n",
       "    </tr>\n",
       "    <tr>\n",
       "      <th>4</th>\n",
       "      <td>1</td>\n",
       "      <td>1</td>\n",
       "      <td>4177</td>\n",
       "      <td>1590</td>\n",
       "      <td>NaN</td>\n",
       "      <td>NaN</td>\n",
       "      <td>NaN</td>\n",
       "    </tr>\n",
       "    <tr>\n",
       "      <th>...</th>\n",
       "      <td>...</td>\n",
       "      <td>...</td>\n",
       "      <td>...</td>\n",
       "      <td>...</td>\n",
       "      <td>...</td>\n",
       "      <td>...</td>\n",
       "      <td>...</td>\n",
       "    </tr>\n",
       "    <tr>\n",
       "      <th>232</th>\n",
       "      <td>2</td>\n",
       "      <td>2</td>\n",
       "      <td>3214</td>\n",
       "      <td>1110</td>\n",
       "      <td>NaN</td>\n",
       "      <td>NaN</td>\n",
       "      <td>NaN</td>\n",
       "    </tr>\n",
       "    <tr>\n",
       "      <th>233</th>\n",
       "      <td>2</td>\n",
       "      <td>2</td>\n",
       "      <td>3394</td>\n",
       "      <td>1215</td>\n",
       "      <td>NaN</td>\n",
       "      <td>NaN</td>\n",
       "      <td>NaN</td>\n",
       "    </tr>\n",
       "    <tr>\n",
       "      <th>234</th>\n",
       "      <td>2</td>\n",
       "      <td>2</td>\n",
       "      <td>3233</td>\n",
       "      <td>1104</td>\n",
       "      <td>NaN</td>\n",
       "      <td>NaN</td>\n",
       "      <td>NaN</td>\n",
       "    </tr>\n",
       "    <tr>\n",
       "      <th>235</th>\n",
       "      <td>2</td>\n",
       "      <td>2</td>\n",
       "      <td>3352</td>\n",
       "      <td>1170</td>\n",
       "      <td>NaN</td>\n",
       "      <td>NaN</td>\n",
       "      <td>NaN</td>\n",
       "    </tr>\n",
       "    <tr>\n",
       "      <th>236</th>\n",
       "      <td>2</td>\n",
       "      <td>2</td>\n",
       "      <td>3391</td>\n",
       "      <td>1120</td>\n",
       "      <td>NaN</td>\n",
       "      <td>NaN</td>\n",
       "      <td>NaN</td>\n",
       "    </tr>\n",
       "  </tbody>\n",
       "</table>\n",
       "<p>237 rows × 7 columns</p>\n",
       "</div>"
      ],
      "text/plain": [
       "     Unnamed: 0  Age Range  Head Size(cm^3)  Brain Weight(grams)  Unnamed: 4  \\\n",
       "0             1          1             4512                 1530         NaN   \n",
       "1             1          1             3738                 1297         NaN   \n",
       "2             1          1             4261                 1335         NaN   \n",
       "3             1          1             3777                 1282         NaN   \n",
       "4             1          1             4177                 1590         NaN   \n",
       "..          ...        ...              ...                  ...         ...   \n",
       "232           2          2             3214                 1110         NaN   \n",
       "233           2          2             3394                 1215         NaN   \n",
       "234           2          2             3233                 1104         NaN   \n",
       "235           2          2             3352                 1170         NaN   \n",
       "236           2          2             3391                 1120         NaN   \n",
       "\n",
       "     Unnamed: 5 Unnamed: 6  \n",
       "0           NaN        NaN  \n",
       "1           NaN        NaN  \n",
       "2           NaN        NaN  \n",
       "3           NaN        NaN  \n",
       "4           NaN        NaN  \n",
       "..          ...        ...  \n",
       "232         NaN        NaN  \n",
       "233         NaN        NaN  \n",
       "234         NaN        NaN  \n",
       "235         NaN        NaN  \n",
       "236         NaN        NaN  \n",
       "\n",
       "[237 rows x 7 columns]"
      ]
     },
     "execution_count": 29,
     "metadata": {},
     "output_type": "execute_result"
    }
   ],
   "source": [
    "df_no_duplicates = df.drop_duplicates()\n",
    "\n",
    "(df_no_duplicates)"
   ]
  },
  {
   "cell_type": "code",
   "execution_count": 27,
   "id": "816d854c-318c-4dc7-ad62-37732afe6165",
   "metadata": {},
   "outputs": [
    {
     "data": {
      "image/png": "[encoded data removed]",
      "text/plain": [
       "<Figure size 2000x1000 with 1 Axes>"
      ]
     },
     "metadata": {},
     "output_type": "display_data"
    }
   ],
   "source": [
    "plt.figure(figsize=(20,10))\n",
    "plt.title('Histogram of Brain Weight(grams)')\n",
    "sns.histplot(data=df, x='Brain Weight(grams)', kde=True, bins=15);"
   ]
  },
  {
   "cell_type": "code",
   "execution_count": 28,
   "id": "e5fad5bf-deaf-4041-847c-a83f67293033",
   "metadata": {
    "scrolled": true
   },
   "outputs": [
    {
     "ename": "ValueError",
     "evalue": "could not convert string to float: 'Gender'",
     "output_type": "error",
     "traceback": [
      "\u001b[1;31m---------------------------------------------------------------------------\u001b[0m",
      "\u001b[1;31mValueError\u001b[0m                                Traceback (most recent call last)",
      "Cell \u001b[1;32mIn[28], line 1\u001b[0m\n\u001b[1;32m----> 1\u001b[0m sns\u001b[38;5;241m.\u001b[39mheatmap(\u001b[43mdf\u001b[49m\u001b[38;5;241;43m.\u001b[39;49m\u001b[43mcorr\u001b[49m\u001b[43m(\u001b[49m\u001b[43m)\u001b[49m,annot\u001b[38;5;241m=\u001b[39m\u001b[38;5;28;01mTrue\u001b[39;00m)\n",
      "File \u001b[1;32m~\\AppData\\Local\\Programs\\Python\\Python313\\Lib\\site-packages\\pandas\\core\\frame.py:11049\u001b[0m, in \u001b[0;36mDataFrame.corr\u001b[1;34m(self, method, min_periods, numeric_only)\u001b[0m\n\u001b[0;32m  11047\u001b[0m cols \u001b[38;5;241m=\u001b[39m data\u001b[38;5;241m.\u001b[39mcolumns\n\u001b[0;32m  11048\u001b[0m idx \u001b[38;5;241m=\u001b[39m cols\u001b[38;5;241m.\u001b[39mcopy()\n\u001b[1;32m> 11049\u001b[0m mat \u001b[38;5;241m=\u001b[39m \u001b[43mdata\u001b[49m\u001b[38;5;241;43m.\u001b[39;49m\u001b[43mto_numpy\u001b[49m\u001b[43m(\u001b[49m\u001b[43mdtype\u001b[49m\u001b[38;5;241;43m=\u001b[39;49m\u001b[38;5;28;43mfloat\u001b[39;49m\u001b[43m,\u001b[49m\u001b[43m \u001b[49m\u001b[43mna_value\u001b[49m\u001b[38;5;241;43m=\u001b[39;49m\u001b[43mnp\u001b[49m\u001b[38;5;241;43m.\u001b[39;49m\u001b[43mnan\u001b[49m\u001b[43m,\u001b[49m\u001b[43m \u001b[49m\u001b[43mcopy\u001b[49m\u001b[38;5;241;43m=\u001b[39;49m\u001b[38;5;28;43;01mFalse\u001b[39;49;00m\u001b[43m)\u001b[49m\n\u001b[0;32m  11051\u001b[0m \u001b[38;5;28;01mif\u001b[39;00m method \u001b[38;5;241m==\u001b[39m \u001b[38;5;124m\"\u001b[39m\u001b[38;5;124mpearson\u001b[39m\u001b[38;5;124m\"\u001b[39m:\n\u001b[0;32m  11052\u001b[0m     correl \u001b[38;5;241m=\u001b[39m libalgos\u001b[38;5;241m.\u001b[39mnancorr(mat, minp\u001b[38;5;241m=\u001b[39mmin_periods)\n",
      "File \u001b[1;32m~\\AppData\\Local\\Programs\\Python\\Python313\\Lib\\site-packages\\pandas\\core\\frame.py:1993\u001b[0m, in \u001b[0;36mDataFrame.to_numpy\u001b[1;34m(self, dtype, copy, na_value)\u001b[0m\n\u001b[0;32m   1991\u001b[0m \u001b[38;5;28;01mif\u001b[39;00m dtype \u001b[38;5;129;01mis\u001b[39;00m \u001b[38;5;129;01mnot\u001b[39;00m \u001b[38;5;28;01mNone\u001b[39;00m:\n\u001b[0;32m   1992\u001b[0m     dtype \u001b[38;5;241m=\u001b[39m np\u001b[38;5;241m.\u001b[39mdtype(dtype)\n\u001b[1;32m-> 1993\u001b[0m result \u001b[38;5;241m=\u001b[39m \u001b[38;5;28;43mself\u001b[39;49m\u001b[38;5;241;43m.\u001b[39;49m\u001b[43m_mgr\u001b[49m\u001b[38;5;241;43m.\u001b[39;49m\u001b[43mas_array\u001b[49m\u001b[43m(\u001b[49m\u001b[43mdtype\u001b[49m\u001b[38;5;241;43m=\u001b[39;49m\u001b[43mdtype\u001b[49m\u001b[43m,\u001b[49m\u001b[43m \u001b[49m\u001b[43mcopy\u001b[49m\u001b[38;5;241;43m=\u001b[39;49m\u001b[43mcopy\u001b[49m\u001b[43m,\u001b[49m\u001b[43m \u001b[49m\u001b[43mna_value\u001b[49m\u001b[38;5;241;43m=\u001b[39;49m\u001b[43mna_value\u001b[49m\u001b[43m)\u001b[49m\n\u001b[0;32m   1994\u001b[0m \u001b[38;5;28;01mif\u001b[39;00m result\u001b[38;5;241m.\u001b[39mdtype \u001b[38;5;129;01mis\u001b[39;00m \u001b[38;5;129;01mnot\u001b[39;00m dtype:\n\u001b[0;32m   1995\u001b[0m     result \u001b[38;5;241m=\u001b[39m np\u001b[38;5;241m.\u001b[39masarray(result, dtype\u001b[38;5;241m=\u001b[39mdtype)\n",
      "File \u001b[1;32m~\\AppData\\Local\\Programs\\Python\\Python313\\Lib\\site-packages\\pandas\\core\\internals\\managers.py:1694\u001b[0m, in \u001b[0;36mBlockManager.as_array\u001b[1;34m(self, dtype, copy, na_value)\u001b[0m\n\u001b[0;32m   1692\u001b[0m         arr\u001b[38;5;241m.\u001b[39mflags\u001b[38;5;241m.\u001b[39mwriteable \u001b[38;5;241m=\u001b[39m \u001b[38;5;28;01mFalse\u001b[39;00m\n\u001b[0;32m   1693\u001b[0m \u001b[38;5;28;01melse\u001b[39;00m:\n\u001b[1;32m-> 1694\u001b[0m     arr \u001b[38;5;241m=\u001b[39m \u001b[38;5;28;43mself\u001b[39;49m\u001b[38;5;241;43m.\u001b[39;49m\u001b[43m_interleave\u001b[49m\u001b[43m(\u001b[49m\u001b[43mdtype\u001b[49m\u001b[38;5;241;43m=\u001b[39;49m\u001b[43mdtype\u001b[49m\u001b[43m,\u001b[49m\u001b[43m \u001b[49m\u001b[43mna_value\u001b[49m\u001b[38;5;241;43m=\u001b[39;49m\u001b[43mna_value\u001b[49m\u001b[43m)\u001b[49m\n\u001b[0;32m   1695\u001b[0m     \u001b[38;5;66;03m# The underlying data was copied within _interleave, so no need\u001b[39;00m\n\u001b[0;32m   1696\u001b[0m     \u001b[38;5;66;03m# to further copy if copy=True or setting na_value\u001b[39;00m\n\u001b[0;32m   1698\u001b[0m \u001b[38;5;28;01mif\u001b[39;00m na_value \u001b[38;5;129;01mis\u001b[39;00m lib\u001b[38;5;241m.\u001b[39mno_default:\n",
      "File \u001b[1;32m~\\AppData\\Local\\Programs\\Python\\Python313\\Lib\\site-packages\\pandas\\core\\internals\\managers.py:1753\u001b[0m, in \u001b[0;36mBlockManager._interleave\u001b[1;34m(self, dtype, na_value)\u001b[0m\n\u001b[0;32m   1751\u001b[0m     \u001b[38;5;28;01melse\u001b[39;00m:\n\u001b[0;32m   1752\u001b[0m         arr \u001b[38;5;241m=\u001b[39m blk\u001b[38;5;241m.\u001b[39mget_values(dtype)\n\u001b[1;32m-> 1753\u001b[0m     \u001b[43mresult\u001b[49m\u001b[43m[\u001b[49m\u001b[43mrl\u001b[49m\u001b[38;5;241;43m.\u001b[39;49m\u001b[43mindexer\u001b[49m\u001b[43m]\u001b[49m \u001b[38;5;241m=\u001b[39m arr\n\u001b[0;32m   1754\u001b[0m     itemmask[rl\u001b[38;5;241m.\u001b[39mindexer] \u001b[38;5;241m=\u001b[39m \u001b[38;5;241m1\u001b[39m\n\u001b[0;32m   1756\u001b[0m \u001b[38;5;28;01mif\u001b[39;00m \u001b[38;5;129;01mnot\u001b[39;00m itemmask\u001b[38;5;241m.\u001b[39mall():\n",
      "\u001b[1;31mValueError\u001b[0m: could not convert string to float: 'Gender'"
     ]
    }
   ],
   "source": [
    "sns.heatmap(df.corr(),annot=True)"
   ]
  },
  {
   "cell_type": "code",
   "execution_count": 30,
   "id": "e3c6be3c-1f0e-4cd1-9f2b-d714475fb82a",
   "metadata": {},
   "outputs": [
    {
     "name": "stdout",
     "output_type": "stream",
     "text": [
      "     Unnamed: 0  Age Range  Head Size(cm^3)  Brain Weight(grams)  Unnamed: 4  \\\n",
      "0           1.0        1.0             4512                 1530         NaN   \n",
      "1           1.0        1.0             3738                 1297         NaN   \n",
      "2           1.0        1.0             4261                 1335         NaN   \n",
      "3           1.0        1.0             3777                 1282         NaN   \n",
      "5           1.0        1.0             3585                 1300         NaN   \n",
      "..          ...        ...              ...                  ...         ...   \n",
      "232         2.0        2.0             3214                 1110         NaN   \n",
      "233         2.0        2.0             3394                 1215         NaN   \n",
      "234         2.0        2.0             3233                 1104         NaN   \n",
      "235         2.0        2.0             3352                 1170         NaN   \n",
      "236         2.0        2.0             3391                 1120         NaN   \n",
      "\n",
      "     Unnamed: 5 Unnamed: 6  \n",
      "0           NaN        NaN  \n",
      "1           NaN        NaN  \n",
      "2           NaN        NaN  \n",
      "3           NaN        NaN  \n",
      "5           NaN        NaN  \n",
      "..          ...        ...  \n",
      "232         NaN        NaN  \n",
      "233         NaN        NaN  \n",
      "234         NaN        NaN  \n",
      "235         NaN        NaN  \n",
      "236         NaN        NaN  \n",
      "\n",
      "[232 rows x 7 columns]\n"
     ]
    }
   ],
   "source": [
    "df = pd.read_csv(\"human.csv\")\n",
    "\n",
    "outliers = pd.DataFrame({\n",
    "    'Head Size(cm^3)': [4000, 4200],\n",
    "    'Brain Weight(grams)': [5, 3000]\n",
    "})\n",
    "\n",
    "df = pd.concat([df, outliers], ignore_index=True)\n",
    "\n",
    "Q1 = df['Brain Weight(grams)'].quantile(0.25)\n",
    "Q3 = df['Brain Weight(grams)'].quantile(0.75)\n",
    "IQR = Q3 - Q1\n",
    "\n",
    "lower = Q1 - 1.5 * IQR\n",
    "upper = Q3 + 1.5 * IQR\n",
    "\n",
    "df = df[(df['Brain Weight(grams)'] >= lower) & (df['Brain Weight(grams)'] <= upper)]\n",
    "print(df)\n"
   ]
  },
  {
   "cell_type": "code",
   "execution_count": 29,
   "id": "8fd3cbc6-96bd-481d-94d1-5ac4cf026275",
   "metadata": {},
   "outputs": [
    {
     "name": "stdout",
     "output_type": "stream",
     "text": [
      "   Unnamed: 0  Head Size(cm^3)  Brain Weight(grams)  Unnamed: 4  Unnamed: 5  \\\n",
      "0           1             4512                 1530         NaN         NaN   \n",
      "1           1             3738                 1297         NaN         NaN   \n",
      "2           1             4261                 1335         NaN         NaN   \n",
      "3           1             3777                 1282         NaN         NaN   \n",
      "4           1             4177                 1590         NaN         NaN   \n",
      "\n",
      "  Unnamed: 6  Age_1  Age_2  \n",
      "0        NaN   True  False  \n",
      "1        NaN   True  False  \n",
      "2        NaN   True  False  \n",
      "3        NaN   True  False  \n",
      "4        NaN   True  False  \n"
     ]
    }
   ],
   "source": [
    "df = pd.read_csv('human.csv')\n",
    "\n",
    "df_encoded = pd.get_dummies(df, columns=['Age Range'], prefix='Age')\n",
    "\n",
    "print(df_encoded.head())\n",
    "\n",
    "\n",
    "\n"
   ]
  },
  {
   "cell_type": "code",
   "execution_count": null,
   "id": "55376a67-8c14-45ce-b78c-1d71b82f9599",
   "metadata": {},
   "outputs": [],
   "source": []
  }
 ],
 "metadata": {
  "kernelspec": {
   "display_name": "Python 3 (ipykernel)",
   "language": "python",
   "name": "python3"
  },
  "language_info": {
   "codemirror_mode": {
    "name": "ipython",
    "version": 3
   },
   "file_extension": ".py",
   "mimetype": "text/x-python",
   "name": "python",
   "nbconvert_exporter": "python",
   "pygments_lexer": "ipython3",
   "version": "3.13.0"
  }
 },
 "nbformat": 4,
 "nbformat_minor": 5
}
